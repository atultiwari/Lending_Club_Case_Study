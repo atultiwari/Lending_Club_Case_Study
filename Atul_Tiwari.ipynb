{
 "cells": [
  {
   "cell_type": "markdown",
   "id": "30767439",
   "metadata": {},
   "source": [
    "# **LENDING CLUB CASE STUDY FOR LOAN DEFAULTERS**\n",
    "\n",
    "**Objective:** Use EDA to find out key attributes which influence the tendency to default\n",
    "\n",
    "**Group Members** (Individual)\n",
    "* Atul Tiwari"
   ]
  },
  {
   "cell_type": "code",
   "execution_count": 1,
   "id": "3823d2b9",
   "metadata": {
    "scrolled": true
   },
   "outputs": [
    {
     "name": "stdout",
     "output_type": "stream",
     "text": [
      "Python 3.9.7\n"
     ]
    }
   ],
   "source": [
    "!python --version"
   ]
  },
  {
   "cell_type": "code",
   "execution_count": null,
   "id": "272a90b4",
   "metadata": {},
   "outputs": [],
   "source": [
    "#Installing the missing libraries\n",
    "!pip install dataprep"
   ]
  },
  {
   "cell_type": "markdown",
   "id": "201e1852",
   "metadata": {},
   "source": [
    "### Importing the libraries"
   ]
  },
  {
   "cell_type": "code",
   "execution_count": 4,
   "id": "800853cb",
   "metadata": {},
   "outputs": [],
   "source": [
    "#Importing the necessary libraries\n",
    "\n",
    "import numpy as np\n",
    "import pandas as pd\n",
    "import matplotlib.pyplot as plt\n",
    "import seaborn as sns"
   ]
  },
  {
   "cell_type": "markdown",
   "id": "4faf4172",
   "metadata": {},
   "source": [
    "### Load the dataset (CSV file)\n",
    "\n",
    "* Dataset needs to be loaded from csv files\n",
    "\n",
    "* There can be various ways in which we can provide the csv file, for e.g. -\n",
    "\n",
    "- If using google colab, we can either upload the file to the active workspace or we can upload the file in google drive -> mount the drive -> locate the file in the drive\n",
    "\n",
    "- If using jupyter notebook in personal laptop (offline), then we can just keep the csv file in the same folder (method used in this project) or provide a location to the file"
   ]
  },
  {
   "cell_type": "code",
   "execution_count": 5,
   "id": "67207b9d",
   "metadata": {},
   "outputs": [],
   "source": [
    "#Loading the dataset\n",
    "df_loan = pd.read_csv('loan.csv', low_memory=False)"
   ]
  },
  {
   "cell_type": "markdown",
   "id": "d98d3a3c",
   "metadata": {},
   "source": [
    "### Understanding the data by loading & studying the data dictionary"
   ]
  },
  {
   "cell_type": "code",
   "execution_count": 7,
   "id": "d8852bf6",
   "metadata": {
    "scrolled": true
   },
   "outputs": [
    {
     "data": {
      "text/html": [
       "<div>\n",
       "<style scoped>\n",
       "    .dataframe tbody tr th:only-of-type {\n",
       "        vertical-align: middle;\n",
       "    }\n",
       "\n",
       "    .dataframe tbody tr th {\n",
       "        vertical-align: top;\n",
       "    }\n",
       "\n",
       "    .dataframe thead th {\n",
       "        text-align: right;\n",
       "    }\n",
       "</style>\n",
       "<table border=\"1\" class=\"dataframe\">\n",
       "  <thead>\n",
       "    <tr style=\"text-align: right;\">\n",
       "      <th></th>\n",
       "      <th>LoanStatNew</th>\n",
       "      <th>Description</th>\n",
       "    </tr>\n",
       "  </thead>\n",
       "  <tbody>\n",
       "    <tr>\n",
       "      <th>0</th>\n",
       "      <td>acc_now_delinq</td>\n",
       "      <td>The number of accounts on which the borrower i...</td>\n",
       "    </tr>\n",
       "    <tr>\n",
       "      <th>1</th>\n",
       "      <td>acc_open_past_24mths</td>\n",
       "      <td>Number of trades opened in past 24 months.</td>\n",
       "    </tr>\n",
       "    <tr>\n",
       "      <th>2</th>\n",
       "      <td>addr_state</td>\n",
       "      <td>The state provided by the borrower in the loan...</td>\n",
       "    </tr>\n",
       "    <tr>\n",
       "      <th>3</th>\n",
       "      <td>all_util</td>\n",
       "      <td>Balance to credit limit on all trades</td>\n",
       "    </tr>\n",
       "    <tr>\n",
       "      <th>4</th>\n",
       "      <td>annual_inc</td>\n",
       "      <td>The self-reported annual income provided by th...</td>\n",
       "    </tr>\n",
       "    <tr>\n",
       "      <th>...</th>\n",
       "      <td>...</td>\n",
       "      <td>...</td>\n",
       "    </tr>\n",
       "    <tr>\n",
       "      <th>112</th>\n",
       "      <td>verification_status</td>\n",
       "      <td>Indicates if income was verified by LC, not ve...</td>\n",
       "    </tr>\n",
       "    <tr>\n",
       "      <th>113</th>\n",
       "      <td>verified_status_joint</td>\n",
       "      <td>Indicates if the co-borrowers' joint income wa...</td>\n",
       "    </tr>\n",
       "    <tr>\n",
       "      <th>114</th>\n",
       "      <td>zip_code</td>\n",
       "      <td>The first 3 numbers of the zip code provided b...</td>\n",
       "    </tr>\n",
       "    <tr>\n",
       "      <th>115</th>\n",
       "      <td>NaN</td>\n",
       "      <td>NaN</td>\n",
       "    </tr>\n",
       "    <tr>\n",
       "      <th>116</th>\n",
       "      <td>NaN</td>\n",
       "      <td>* Employer Title replaces Employer Name for al...</td>\n",
       "    </tr>\n",
       "  </tbody>\n",
       "</table>\n",
       "<p>117 rows × 2 columns</p>\n",
       "</div>"
      ],
      "text/plain": [
       "               LoanStatNew                                        Description\n",
       "0           acc_now_delinq  The number of accounts on which the borrower i...\n",
       "1     acc_open_past_24mths         Number of trades opened in past 24 months.\n",
       "2               addr_state  The state provided by the borrower in the loan...\n",
       "3                 all_util              Balance to credit limit on all trades\n",
       "4               annual_inc  The self-reported annual income provided by th...\n",
       "..                     ...                                                ...\n",
       "112    verification_status  Indicates if income was verified by LC, not ve...\n",
       "113  verified_status_joint  Indicates if the co-borrowers' joint income wa...\n",
       "114               zip_code  The first 3 numbers of the zip code provided b...\n",
       "115                    NaN                                                NaN\n",
       "116                    NaN  * Employer Title replaces Employer Name for al...\n",
       "\n",
       "[117 rows x 2 columns]"
      ]
     },
     "execution_count": 7,
     "metadata": {},
     "output_type": "execute_result"
    }
   ],
   "source": [
    "#Loading data dictionary excel file\n",
    "data_dictionary = pd.read_excel(\"Data_Dictionary.xlsx\")\n",
    "data_dictionary"
   ]
  },
  {
   "cell_type": "code",
   "execution_count": null,
   "id": "221e94ae",
   "metadata": {},
   "outputs": [],
   "source": []
  }
 ],
 "metadata": {
  "kernelspec": {
   "display_name": "Python 3.9 (upgrad)",
   "language": "python",
   "name": "upgrad"
  },
  "language_info": {
   "codemirror_mode": {
    "name": "ipython",
    "version": 3
   },
   "file_extension": ".py",
   "mimetype": "text/x-python",
   "name": "python",
   "nbconvert_exporter": "python",
   "pygments_lexer": "ipython3",
   "version": "3.9.7"
  }
 },
 "nbformat": 4,
 "nbformat_minor": 5
}
